{
  "cells": [
    {
      "cell_type": "markdown",
      "metadata": {
        "id": "39167a6b-47ae-4a60-bb6f-8b4f0ac05173"
      },
      "source": [
        "#### This notebook demonstrates how to generate images of handwritten digits using a `Deep Convolutional Generative Adversarial Network`.\n",
        "\n",
        "#### The code is written using the Keras Sequential API with a `tf.GradientTape`\n",
        "\n",
        "- Two models are trained simultaneously by an adversarial process. \n",
        "\n",
        "- A generator `artist` learns how to create images that look real while a discriminator `the art critic` learns how to tell real images from the fake ones.\n",
        "\n",
        "This notebook demonstratesthis process on the MNIST dataset."
      ],
      "id": "39167a6b-47ae-4a60-bb6f-8b4f0ac05173"
    },
    {
      "cell_type": "code",
      "execution_count": null,
      "metadata": {
        "id": "b6c735f6-7baf-40db-9424-082bfa868843"
      },
      "outputs": [],
      "source": [
        "import os\n",
        "import PIL\n",
        "import time\n",
        "import glob\n",
        "import imageio\n",
        "import numpy as np\n",
        "import tensorflow as tf\n",
        "import matplotlib.pyplot as plt \n",
        "from IPython import display"
      ],
      "id": "b6c735f6-7baf-40db-9424-082bfa868843"
    },
    {
      "cell_type": "code",
      "execution_count": null,
      "metadata": {
        "colab": {
          "base_uri": "https://localhost:8080/"
        },
        "id": "b8689990-323b-4ece-80a2-02080b3934d1",
        "outputId": "a27037d1-e9e3-4393-8030-9b7b9ccd37a7"
      },
      "outputs": [
        {
          "name": "stdout",
          "output_type": "stream",
          "text": [
            "Downloading data from https://storage.googleapis.com/tensorflow/tf-keras-datasets/mnist.npz\n",
            "11493376/11490434 [==============================] - 0s 0us/step\n",
            "11501568/11490434 [==============================] - 0s 0us/step\n"
          ]
        },
        {
          "data": {
            "text/plain": [
              "TensorSpec(shape=(None, 28, 28, 1), dtype=tf.float32, name=None)"
            ]
          },
          "execution_count": 2,
          "metadata": {},
          "output_type": "execute_result"
        }
      ],
      "source": [
        "#Load and preprocess the dataset.\n",
        "BUFFER_SIZE = 60_000\n",
        "BATCH_SIZE = 512\n",
        "\n",
        "(train_images, train_labels), (_, _) = tf.keras.datasets.mnist.load_data()\n",
        "train_images = train_images.reshape(train_images.shape[0], 28, 28, 1).astype('float32')\n",
        "train_images = (train_images - 127.5) / 127.5 #Normalize images to [-1, 1]\n",
        "\n",
        "#Batch and shuffle the data.\n",
        "train_dataset = tf.data.Dataset.from_tensor_slices(train_images).shuffle(BUFFER_SIZE).batch(BATCH_SIZE)\n",
        "train_dataset.element_spec"
      ],
      "id": "b8689990-323b-4ece-80a2-02080b3934d1"
    },
    {
      "cell_type": "markdown",
      "metadata": {
        "id": "e4da5542-3614-4f31-88bd-6263d6d90524"
      },
      "source": [
        "## 2. Create the models.\n",
        "\n",
        "#### Both the genrator and discriminator are defined using the `keras Sequential API.`\n",
        "\n",
        "#### a) The Generator.\n",
        "- The genrator uses the `tf.keras.layers.Conv2DTranspose` (upsampling) layers to produce an image from a seed (random noise). Start with the `Dense` layer that takes this seed as input, then upsample several times until you reach the desired image of `28 * 28 * 1`. \n",
        "\n",
        "- Notice that the `tf.keras.layers.LeakyReLU` activation for each layer, except for the output layer which uses the `tanh` activation layer."
      ],
      "id": "e4da5542-3614-4f31-88bd-6263d6d90524"
    },
    {
      "cell_type": "code",
      "execution_count": null,
      "metadata": {
        "id": "2bf81874-9f3f-4378-87b0-53ad3a09199f"
      },
      "outputs": [],
      "source": [
        "def make_generator_model():\n",
        "    model = tf.keras.Sequential()\n",
        "    model.add(tf.keras.layers.Dense(units = 7 * 7 * 256, use_bias = False, input_shape = (100, )))\n",
        "    model.add(tf.keras.layers.BatchNormalization())\n",
        "    model.add(tf.keras.layers.LeakyReLU())\n",
        "    \n",
        "    model.add(tf.keras.layers.Reshape((7, 7, 256)))\n",
        "    assert model.output_shape == (None, 7, 7, 256) #None is the batch size.\n",
        "    \n",
        "    model.add(tf.keras.layers.Conv2DTranspose(128, (5, 5), strides = (1, 1), padding = 'same', use_bias = False))\n",
        "    assert model.output_shape == (None, 7, 7, 128)\n",
        "    \n",
        "    model.add(tf.keras.layers.Conv2DTranspose(64, (5, 5), strides = (2, 2), padding = 'same', use_bias = False))\n",
        "    assert model.output_shape == (None, 14, 14, 64)\n",
        "    \n",
        "    model.add(tf.keras.layers.BatchNormalization())\n",
        "    model.add(tf.keras.layers.LeakyReLU())\n",
        "    \n",
        "    model.add(tf.keras.layers.Conv2DTranspose(1, (5, 5), strides = (2, 2), padding = 'same', use_bias = False))\n",
        "    assert model.output_shape == (None, 28, 28, 1)\n",
        "    \n",
        "    return model"
      ],
      "id": "2bf81874-9f3f-4378-87b0-53ad3a09199f"
    },
    {
      "cell_type": "code",
      "execution_count": null,
      "metadata": {
        "colab": {
          "background_save": true
        },
        "id": "2d40e883-987a-4caf-bce6-76e0c6213f09",
        "outputId": "71ed8ce4-50e6-4b78-9ea1-e39aaa03f6d2"
      },
      "outputs": [
        {
          "data": {
            "image/png": "[encoded data removed]",
            "text/plain": [
              "<Figure size 432x432 with 1 Axes>"
            ]
          },
          "metadata": {},
          "output_type": "display_data"
        }
      ],
      "source": [
        "#Use the untrained generator to create an image.\n",
        "generator = make_generator_model()\n",
        "\n",
        "noise = tf.random.normal([1, 100])\n",
        "generated_image = generator(noise, training = False)\n",
        "\n",
        "plt.figure(figsize = (6, 6))\n",
        "plt.imshow(generated_image[0, :, :, 0], cmap = 'gray')\n",
        "plt.show()"
      ],
      "id": "2d40e883-987a-4caf-bce6-76e0c6213f09"
    },
    {
      "cell_type": "markdown",
      "metadata": {
        "id": "7895d547-1644-4ddb-9c62-93b2ce2e3f4a"
      },
      "source": [
        "#### b) The Discriminator.\n",
        "The discriminator is a CNN-based image classefier."
      ],
      "id": "7895d547-1644-4ddb-9c62-93b2ce2e3f4a"
    },
    {
      "cell_type": "code",
      "execution_count": null,
      "metadata": {
        "id": "0e6430fd-3ee3-4771-83bd-e7582f151d96"
      },
      "outputs": [],
      "source": [
        "def make_discriminator_model():\n",
        "    model = tf.keras.Sequential()\n",
        "    model.add(tf.keras.layers.Conv2D(64, (5, 5), strides = (2, 2), padding = 'same', input_shape = (28, 28, 1)))\n",
        "    model.add(tf.keras.layers.LeakyReLU())\n",
        "    model.add(tf.keras.layers.Dropout(0.3))\n",
        "    \n",
        "    model.add(tf.keras.layers.Conv2D(128, (5, 5), strides = (2, 2), padding = 'same'))\n",
        "    model.add(tf.keras.layers.LeakyReLU())\n",
        "    model.add(tf.keras.layers.Dropout(0.3))\n",
        "    \n",
        "    model.add(tf.keras.layers.Flatten())\n",
        "    model.add(tf.keras.layers.Dense(1))\n",
        "    \n",
        "    return model"
      ],
      "id": "0e6430fd-3ee3-4771-83bd-e7582f151d96"
    },
    {
      "cell_type": "code",
      "execution_count": null,
      "metadata": {
        "id": "0b95dfd4-5b62-4f61-8ef7-2c303e6a2649",
        "outputId": "b1307a6e-82a7-426d-ac9c-c4f8a9dcbd74"
      },
      "outputs": [
        {
          "name": "stdout",
          "output_type": "stream",
          "text": [
            "tf.Tensor([[0.00355594]], shape=(1, 1), dtype=float32)\n"
          ]
        }
      ],
      "source": [
        "#Use the untrained discriminator to classify the generated images as real or fake. \n",
        "#The model will be trained to output positive velues for real images and negative values for fake images.\n",
        "\n",
        "discriminator = make_discriminator_model()\n",
        "decision = discriminator(generated_image)\n",
        "print(decision)"
      ],
      "id": "0b95dfd4-5b62-4f61-8ef7-2c303e6a2649"
    },
    {
      "cell_type": "markdown",
      "metadata": {
        "id": "00a8419c-7dd9-4537-9e7e-234af3828b13"
      },
      "source": [
        "## 3. Define the loss and optimizers."
      ],
      "id": "00a8419c-7dd9-4537-9e7e-234af3828b13"
    },
    {
      "cell_type": "code",
      "execution_count": null,
      "metadata": {
        "id": "56334e4a-d3a1-4e90-af61-a5f42ea1fc9f"
      },
      "outputs": [],
      "source": [
        "#This method returns a helper function to compute the cross-entropy loss.\n",
        "cross_entropy = tf.keras.losses.BinaryCrossentropy(from_logits = True)"
      ],
      "id": "56334e4a-d3a1-4e90-af61-a5f42ea1fc9f"
    },
    {
      "cell_type": "markdown",
      "metadata": {
        "id": "1318c044-725b-47ae-8826-5a57e623f215"
      },
      "source": [
        "#### Discriminator loss.\n",
        "- This method quantifies how well the discriminator is able to distinguish real images from fakes. \n",
        "\n",
        "- It compares the discriminator's predictions on real images to an array of 1s , and the discriminator predictions on fake (generated) images to an array of 0s."
      ],
      "id": "1318c044-725b-47ae-8826-5a57e623f215"
    },
    {
      "cell_type": "code",
      "execution_count": null,
      "metadata": {
        "id": "376fb574-0607-42ff-bb9f-ae3ea4f83f42"
      },
      "outputs": [],
      "source": [
        "def discriminator_loss(real_output, fake_output):\n",
        "    real_loss = cross_entropy(tf.ones_like(real_output), real_output)\n",
        "    fake_loss = cross_entropy(tf.zeros_like(fake_output), fake_output)\n",
        "    total_loss = real_loss + fake_loss\n",
        "    \n",
        "    return total_loss"
      ],
      "id": "376fb574-0607-42ff-bb9f-ae3ea4f83f42"
    },
    {
      "cell_type": "markdown",
      "metadata": {
        "id": "69eae553-490b-4b0f-8963-467aafdcb8ec"
      },
      "source": [
        "#### Generator loss.\n",
        "- The generator's loss quantifies how well it was able to trick the discriminator. \n",
        "- Intuitively, if the generator is performing well, the discriminator will classify the fake images as real (or 1). \n",
        "- Here, we will compare the discriminator's decisions on the generated images to an array of 1s."
      ],
      "id": "69eae553-490b-4b0f-8963-467aafdcb8ec"
    },
    {
      "cell_type": "code",
      "execution_count": null,
      "metadata": {
        "id": "f0933b74-bed0-4df5-a559-88cf81ac3b4d"
      },
      "outputs": [],
      "source": [
        "def generator_loss(fake_output):\n",
        "    return cross_entropy(tf.ones_like(fake_output), fake_output)"
      ],
      "id": "f0933b74-bed0-4df5-a559-88cf81ac3b4d"
    },
    {
      "cell_type": "markdown",
      "metadata": {
        "id": "36e16352-cea9-48d6-ac8b-9d473bff1b70"
      },
      "source": [
        "- The discriminator and the generator optimizers are different since we will train 2 networks separately."
      ],
      "id": "36e16352-cea9-48d6-ac8b-9d473bff1b70"
    },
    {
      "cell_type": "code",
      "execution_count": null,
      "metadata": {
        "id": "2ddd0709-4f40-402f-88dc-8eb8b38ad5d5"
      },
      "outputs": [],
      "source": [
        "generator_optimizer = tf.keras.optimizers.Adam(learning_rate = 1e-4)\n",
        "discriminator_optimizer = tf.keras.optimizers.Adam(learning_rate = 1e-4)"
      ],
      "id": "2ddd0709-4f40-402f-88dc-8eb8b38ad5d5"
    },
    {
      "cell_type": "markdown",
      "metadata": {
        "id": "ad53c391-0baf-4474-9b52-c30f6fb64c47"
      },
      "source": [
        "#### Save checkpoints.\n",
        "This notebook also demonstrates how to save and restore models, which can be helpful in case of a long running training task is interrupted."
      ],
      "id": "ad53c391-0baf-4474-9b52-c30f6fb64c47"
    },
    {
      "cell_type": "code",
      "execution_count": null,
      "metadata": {
        "id": "923a7c23-1011-43b3-b54c-867f4e514e57"
      },
      "outputs": [],
      "source": [
        "checkpoint_dir = './training_checkpoints'\n",
        "checkpoint_prefix = os.path.join(checkpoint_dir, 'ckpt')\n",
        "checkpoint = tf.train.Checkpoint(generator_optimizer = generator_optimizer, \n",
        "                                discriminator_optimizer = discriminator_optimizer, \n",
        "                                generator = generator, \n",
        "                                discriminator = discriminator)"
      ],
      "id": "923a7c23-1011-43b3-b54c-867f4e514e57"
    },
    {
      "cell_type": "markdown",
      "metadata": {
        "id": "4c5ce63c-28ba-409d-8413-43941399f3fa"
      },
      "source": [
        "## 4. Define the training loop."
      ],
      "id": "4c5ce63c-28ba-409d-8413-43941399f3fa"
    },
    {
      "cell_type": "code",
      "execution_count": null,
      "metadata": {
        "id": "096e0211-8cbd-42e6-b3ac-2b8f2afb2da4"
      },
      "outputs": [],
      "source": [
        "EPOCHS = 50\n",
        "noise_dim = 100\n",
        "num_examples_to_generate = 16\n",
        "\n",
        "#We'll reuse the seed over time to visualize progress.\n",
        "seed = tf.random.normal([num_examples_to_generate, noise_dim])"
      ],
      "id": "096e0211-8cbd-42e6-b3ac-2b8f2afb2da4"
    },
    {
      "cell_type": "markdown",
      "metadata": {
        "id": "436fc5c8-eb53-428d-956c-3eba65a8e423"
      },
      "source": [
        "- The training loop begins with the generator receiving a random seed as input. That seed is used to produce an image. \n",
        "- The discriminator is then used to classify real images (drawn from the train set) and fake images (produced by the generator)\n",
        "- The loss is calculated for each of these models, and the gradients are used to update the generator and discriminator."
      ],
      "id": "436fc5c8-eb53-428d-956c-3eba65a8e423"
    },
    {
      "cell_type": "code",
      "execution_count": null,
      "metadata": {
        "id": "f8598897-8d31-4d1b-9366-afa476e28b90"
      },
      "outputs": [],
      "source": [
        "@tf.function\n",
        "def train_step(images):\n",
        "    noise = tf.random.normal([BATCH_SIZE, noise_dim])\n",
        "    \n",
        "    with tf.GradientTape() as gen_tape, tf.GradientTape() as disc_tape:\n",
        "        generated_images = generator(noise, training = True)\n",
        "        real_output = discriminator(images, training = True)\n",
        "        fake_output = discriminator(generated_images, training = True)\n",
        "        gen_loss = generator_loss(fake_output)\n",
        "        disc_loss = discriminator_loss(real_output, fake_output)\n",
        "        \n",
        "        gradients_of_generator = gen_tape.gradient(gen_loss, generator.trainable_variables)\n",
        "        gradients_of_discriminator = disc_tape.gradient(disc_loss, discriminator.trainable_variables)\n",
        "        \n",
        "        generator_optimizer.apply_gradients(zip(gradients_of_generator, generator.trainable_variables))\n",
        "        discriminator_optimizer.apply_gradients(zip(gradients_of_discriminator, discriminator.trainable_variables))"
      ],
      "id": "f8598897-8d31-4d1b-9366-afa476e28b90"
    },
    {
      "cell_type": "code",
      "execution_count": null,
      "metadata": {
        "id": "47da10e1-68b9-45b3-8b17-6a160b54be5e"
      },
      "outputs": [],
      "source": [
        "def train(dataset, epochs):\n",
        "    for epoch in range(epochs):\n",
        "        start = time.time()\n",
        "        for image_batch in dataset:\n",
        "            train_step(image_batch)\n",
        "            \n",
        "    #Produce images for the GIF as we go.\n",
        "    display.clear_output(wait = True)\n",
        "    generate_and_save_images(generator, epoch + 1, seed)\n",
        "    \n",
        "    #Save model every 15 epochs.\n",
        "    if (epoch + 1) % 15 == 0:\n",
        "        checkpoint.save(file_prefix = checkpoint_prefix)\n",
        "        \n",
        "    print('Time for epoch {} is {} sec'.format(epoch + 1, time.time() - start))\n",
        "    \n",
        "    #Generate after the final epoch.\n",
        "    display.clear_output(wait = True)\n",
        "    generate_and_save_images(generator, epochs, seed)"
      ],
      "id": "47da10e1-68b9-45b3-8b17-6a160b54be5e"
    },
    {
      "cell_type": "code",
      "execution_count": null,
      "metadata": {
        "id": "aa4283fc-b4c6-4649-8986-6ec9403e0295"
      },
      "outputs": [],
      "source": [
        "#Generate and save images.\n",
        "def generate_and_save_images(model, epoch, test_input):\n",
        "    #Notice training is set to False so all the layers run in inference mode (batchnorm)\n",
        "    predictions = model(test_input, training = False)\n",
        "    \n",
        "    fig = plt.figure(figsize = (5, 5))\n",
        "    for i in range(predictions.shape[0]):\n",
        "        plt.subplot(4, 4, i + 1)\n",
        "        plt.imshow(predictions[i, :, :, 0] * 127.5 + 127.5, cmap = 'gray')\n",
        "        plt.axis('off')\n",
        "    \n",
        "    plt.savefig('image_at_epoch_.png')\n",
        "    plt.show()"
      ],
      "id": "aa4283fc-b4c6-4649-8986-6ec9403e0295"
    },
    {
      "cell_type": "markdown",
      "metadata": {
        "id": "a6a162f1-6f4b-4b41-88b9-fa03c18e7b6f"
      },
      "source": [
        "# 5. Train the model.\n",
        "\n",
        "- Call the `train()` method defined above to train the generator and discriminator simultaneously. \n",
        "- At the beginning of the training, the generated images look loke random noise. As the training progresses, the generated digits will look increasingly real. \n",
        "- After about 50 epochs, they resemble MNIST digits."
      ],
      "id": "a6a162f1-6f4b-4b41-88b9-fa03c18e7b6f"
    },
    {
      "cell_type": "code",
      "execution_count": null,
      "metadata": {
        "id": "146c44e7-4575-469e-8f57-76c9153962bf",
        "outputId": "1e1b6615-7766-4627-cf27-725ec9a6e1d8",
        "colab": {
          "base_uri": "https://localhost:8080/",
          "height": 338
        }
      },
      "outputs": [
        {
          "output_type": "display_data",
          "data": {
            "text/plain": [
              "<Figure size 360x360 with 16 Axes>"
            ],
            "image/png": "[encoded data removed]"
          },
          "metadata": {
            "needs_background": "light"
          }
        },
        {
          "output_type": "stream",
          "name": "stdout",
          "text": [
            "CPU times: user 1min 53s, sys: 10.2 s, total: 2min 3s\n",
            "Wall time: 8min 39s\n"
          ]
        }
      ],
      "source": [
        "%%time\n",
        "train(train_dataset, EPOCHS)"
      ],
      "id": "146c44e7-4575-469e-8f57-76c9153962bf"
    },
    {
      "cell_type": "code",
      "execution_count": null,
      "metadata": {
        "id": "9fde9e46-bedc-4867-8c87-aea8324c8f09"
      },
      "outputs": [],
      "source": [
        ""
      ],
      "id": "9fde9e46-bedc-4867-8c87-aea8324c8f09"
    }
  ],
  "metadata": {
    "accelerator": "GPU",
    "colab": {
      "name": "01. DCGAN.ipynb",
      "provenance": [],
      "collapsed_sections": []
    },
    "gpuClass": "standard",
    "kernelspec": {
      "display_name": "Python 3 (ipykernel)",
      "language": "python",
      "name": "python3"
    },
    "language_info": {
      "codemirror_mode": {
        "name": "ipython",
        "version": 3
      },
      "file_extension": ".py",
      "mimetype": "text/x-python",
      "name": "python",
      "nbconvert_exporter": "python",
      "pygments_lexer": "ipython3",
      "version": "3.9.7"
    }
  },
  "nbformat": 4,
  "nbformat_minor": 5
}